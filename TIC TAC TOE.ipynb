{
 "cells": [
  {
   "cell_type": "code",
   "execution_count": 1,
   "metadata": {},
   "outputs": [],
   "source": [
    "## TIC TAC TOE"
   ]
  },
  {
   "cell_type": "code",
   "execution_count": 1,
   "metadata": {},
   "outputs": [],
   "source": [
    "from IPython.display import clear_output\n",
    "  \n",
    "def make_board(board):\n",
    "    clear_output()\n",
    "    \n",
    "  #compartment 1  \n",
    "    print('  |    |')\n",
    "    print(' '+ board[7] +'| '+ board[8] +'  | '+ board[9])\n",
    "    print('  |    |')\n",
    "    print('-------------')\n",
    "    \n",
    "   #compartment 2  \n",
    "    print('  |    |')\n",
    "    print(' ' +board[4] +'| '+ board[5] +'  | '+ board[6])\n",
    "    print('  |    |')\n",
    "    print('-------------')\n",
    "    \n",
    "   #compartment 3  \n",
    "    print('  |    |')\n",
    "    print(' '+ board[1] +'| '+ board[2] +'  | '+ board[3])\n",
    "    print('  |    |')\n",
    "  "
   ]
  },
  {
   "cell_type": "code",
   "execution_count": 2,
   "metadata": {},
   "outputs": [],
   "source": [
    "def player_input():\n",
    "    marker=' '\n",
    "    \n",
    "    while  not(marker=='X' or marker=='O'):\n",
    "            marker=input(\"Player 1: Enter your choice as 'X' or 'O' \").upper()\n",
    "       \n",
    "    if marker=='X':\n",
    "            return('X','O')\n",
    "    else:\n",
    "            return('O','X')"
   ]
  },
  {
   "cell_type": "code",
   "execution_count": 3,
   "metadata": {},
   "outputs": [],
   "source": [
    "def place_marker(board,marker,position):\n",
    "    board[position]=marker"
   ]
  },
  {
   "cell_type": "code",
   "execution_count": 4,
   "metadata": {},
   "outputs": [],
   "source": [
    "def win_check(board,mark):\n",
    "    \n",
    "    return((board[7]==mark)and(board[8]==mark)and(board[9]==mark)or  #top\n",
    "          (board[4]==mark)and(board[5]==mark)and(board[6]==mark)or   #middle\n",
    "          (board[1]==mark)and(board[2]==mark)and(board[3]==mark)or   #bottom\n",
    "          (board[9]==mark)and(board[5]==mark)and(board[1]==mark)or #d1\n",
    "          (board[7]==mark)and(board[5]==mark)and(board[3]==mark)or #d2\n",
    "          (board[9]==mark)and(board[6]==mark)and(board[3]==mark)or  #right\n",
    "          (board[7]==mark)and(board[4]==mark)and(board[1]==mark)or  #left\n",
    "          (board[8]==mark)and(board[5]==mark)and(board[2]==mark)) #middle"
   ]
  },
  {
   "cell_type": "code",
   "execution_count": 5,
   "metadata": {},
   "outputs": [],
   "source": [
    "import random\n",
    "\n",
    "def choose_first():\n",
    "    if random.randint(0,1)==0:\n",
    "        return 'player 2'\n",
    "    else:\n",
    "        return 'player1'"
   ]
  },
  {
   "cell_type": "code",
   "execution_count": 6,
   "metadata": {},
   "outputs": [],
   "source": [
    "def space_check(board,position):\n",
    "    return board[position]==' '"
   ]
  },
  {
   "cell_type": "code",
   "execution_count": 7,
   "metadata": {},
   "outputs": [],
   "source": [
    "def full_board_check(board):\n",
    "    for i in range(1,10):\n",
    "        if space_check(board,i):\n",
    "            return False\n",
    "        \n",
    "    return True"
   ]
  },
  {
   "cell_type": "code",
   "execution_count": 8,
   "metadata": {},
   "outputs": [],
   "source": [
    "def player_choice(board):\n",
    "    position=0\n",
    "    \n",
    "    while position not in [1,2,3,4,5,6,7,8,9] or not space_check(board,position):\n",
    "        position=int(input(\"Enter your choice 1-9\"))\n",
    "        \n",
    "    return position"
   ]
  },
  {
   "cell_type": "code",
   "execution_count": 9,
   "metadata": {},
   "outputs": [],
   "source": [
    "def replay():\n",
    "    \n",
    "    choice=input(\"You want to play again Yes or No\").upper()\n",
    "    \n",
    "    if choice=='YES' or choice==\"Y\":\n",
    "        return True\n",
    "    else: \n",
    "        return False"
   ]
  },
  {
   "cell_type": "code",
   "execution_count": null,
   "metadata": {},
   "outputs": [
    {
     "name": "stdout",
     "output_type": "stream",
     "text": [
      "Welcome to tic tac toe\n"
     ]
    }
   ],
   "source": [
    "print(\"Welcome to tic tac toe\")\n",
    "\n",
    "while True:\n",
    "    theboard=[' ']*10\n",
    "    player1_marker,player2_marker=player_input()\n",
    "    turn=choose_first()\n",
    "    print(turn+' will go first')\n",
    "    \n",
    "    play_game=input(\"Ready to play ? Yes or No\")\n",
    "        \n",
    "    if play_game.upper()=='YES' or play_game.upper()=='Y':\n",
    "        game_on=True\n",
    "    else:\n",
    "        game_on=False\n",
    "            \n",
    "    while game_on:\n",
    "        if turn=='player1':\n",
    "            \n",
    "            \n",
    "            make_board(theboard)\n",
    "            position=player_choice(theboard)\n",
    "            place_marker(theboard,player1_marker,position)\n",
    "                    \n",
    "            if win_check(theboard,player1_marker):\n",
    "                make_board(theboard)\n",
    "                print('Congratulation! Player 1 won the Game')\n",
    "                game_on=False\n",
    "            else:\n",
    "                if full_board_check(theboard):\n",
    "                    make_board(theboard)\n",
    "                    print('The Game is Draw')\n",
    "                    break\n",
    "                else:\n",
    "                    turn= 'player2'\n",
    "        else:\n",
    "            \n",
    "            make_board(theboard)\n",
    "            position=player_choice(theboard)\n",
    "            place_marker(theboard,player2_marker,position)\n",
    "                        \n",
    "            if win_check(theboard,player2_marker):\n",
    "                make_board(theboard)\n",
    "                print('Congratulations! Player 2 won the Game')\n",
    "                game_on=False\n",
    "            else:\n",
    "                if full_board_check(theboard):\n",
    "                    make_board(theboard)\n",
    "                    print(\"The Game is Draw\")\n",
    "                    break\n",
    "                else:\n",
    "                    turn='player 1'\n",
    "                                \n",
    "    if not replay():\n",
    "        break\n",
    "                        \n",
    "                            \n",
    "                                "
   ]
  },
  {
   "cell_type": "markdown",
   "metadata": {},
   "source": []
  },
  {
   "cell_type": "code",
   "execution_count": null,
   "metadata": {},
   "outputs": [],
   "source": []
  },
  {
   "cell_type": "code",
   "execution_count": null,
   "metadata": {},
   "outputs": [],
   "source": []
  }
 ],
 "metadata": {
  "kernelspec": {
   "display_name": "Python 3",
   "language": "python",
   "name": "python3"
  },
  "language_info": {
   "codemirror_mode": {
    "name": "ipython",
    "version": 3
   },
   "file_extension": ".py",
   "mimetype": "text/x-python",
   "name": "python",
   "nbconvert_exporter": "python",
   "pygments_lexer": "ipython3",
   "version": "3.7.6"
  }
 },
 "nbformat": 4,
 "nbformat_minor": 2
}
